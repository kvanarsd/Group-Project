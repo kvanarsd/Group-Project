{
 "cells": [
  {
   "cell_type": "code",
   "execution_count": null,
   "id": "79162f51-5d75-4da6-bd9f-538c93aaa442",
   "metadata": {},
   "outputs": [],
   "source": [
    "import numpy as np\n",
    "import matplotlib.pyplot as plt"
   ]
  },
  {
   "cell_type": "code",
   "execution_count": 38,
   "id": "34d12ad4-0118-4c8d-90c8-7ee25bb0a671",
   "metadata": {},
   "outputs": [],
   "source": [
    "#skips comments and read the rest of the lines\n",
    "with open(\"ASTR19_S22_group_project_data.txt\", \"r\") as f:\n",
    "    f.readline()\n",
    "    f.readline()\n",
    "    f.readline()\n",
    "    \n",
    "    lines = f.readlines()\n",
    "\n",
    "# empty arrays\n",
    "d = []\n",
    "t = []\n",
    "h = []\n",
    "\n",
    "# create arrays for day, time, and height\n",
    "for line in lines:\n",
    "    day, time, height = line.split()\n",
    "    d.append(day)\n",
    "    t.append(time)\n",
    "    h.append(height)\n",
    "    "
   ]
  },
  {
   "cell_type": "code",
   "execution_count": 20,
   "id": "6bd5802c-e37a-4fd0-a816-d51ea6367a87",
   "metadata": {},
   "outputs": [
    {
     "ename": "NameError",
     "evalue": "name 'plt' is not defined",
     "output_type": "error",
     "traceback": [
      "\u001b[1;31m---------------------------------------------------------------------------\u001b[0m",
      "\u001b[1;31mNameError\u001b[0m                                 Traceback (most recent call last)",
      "Cell \u001b[1;32mIn[20], line 1\u001b[0m\n\u001b[1;32m----> 1\u001b[0m \u001b[43mplt\u001b[49m\u001b[38;5;241m.\u001b[39mfigure()\n\u001b[0;32m      2\u001b[0m plt\u001b[38;5;241m.\u001b[39mplot(x,y)\n\u001b[0;32m      3\u001b[0m plt\u001b[38;5;241m.\u001b[39mylim(\u001b[38;5;241m-\u001b[39m\u001b[38;5;241m1.1\u001b[39m, \u001b[38;5;241m1.1\u001b[39m)\n",
      "\u001b[1;31mNameError\u001b[0m: name 'plt' is not defined"
     ]
    }
   ],
   "source": [
    "# placeholder text\n",
    "plt.figure()\n",
    "plt.plot(x,y)\n",
    "plt.ylim(-1.1, 1.1)\n",
    "plt.xlabel(\"X\")\n",
    "plt.ylabel(\"Y\")\n",
    "plt.savefig(\"demo.png\", facecolor=\"m\")\n",
    "plt.show()"
   ]
  },
  {
   "cell_type": "code",
   "execution_count": null,
   "id": "3e28ea5a-af47-4c31-bec6-8b28e087f657",
   "metadata": {},
   "outputs": [],
   "source": []
  }
 ],
 "metadata": {
  "kernelspec": {
   "display_name": "Python 3 (ipykernel)",
   "language": "python",
   "name": "python3"
  },
  "language_info": {
   "codemirror_mode": {
    "name": "ipython",
    "version": 3
   },
   "file_extension": ".py",
   "mimetype": "text/x-python",
   "name": "python",
   "nbconvert_exporter": "python",
   "pygments_lexer": "ipython3",
   "version": "3.11.1"
  }
 },
 "nbformat": 4,
 "nbformat_minor": 5
}
