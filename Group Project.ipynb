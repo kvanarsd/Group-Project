{
 "cells": [
  {
   "attachments": {},
   "cell_type": "markdown",
   "id": "932c44c4",
   "metadata": {},
   "source": [
    "testing\n"
   ]
  },
  {
   "attachments": {},
   "cell_type": "markdown",
   "id": "5c52694a",
   "metadata": {},
   "source": [
    "#test \n",
    "#test\n",
    "#test"
   ]
  }
 ],
 "metadata": {
  "kernelspec": {
   "display_name": "Python 3 (ipykernel)",
   "language": "python",
   "name": "python3"
  },
  "language_info": {
   "codemirror_mode": {
    "name": "ipython",
    "version": 3
   },
   "file_extension": ".py",
   "mimetype": "text/x-python",
   "name": "python",
   "nbconvert_exporter": "python",
   "pygments_lexer": "ipython3",
   "version": "3.11.1"
  }
 },
 "nbformat": 4,
 "nbformat_minor": 5
}
